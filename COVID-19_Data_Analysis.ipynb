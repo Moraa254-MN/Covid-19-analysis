{
 "cells": [
  {
   "cell_type": "markdown",
   "metadata": {},
   "source": [
    "# COVID-19 Global Data Analysis\n",
    "**Name**: [Your Name]  \n",
    "**Cohort**: VII  \n",
    "**Date**: [Submission Date]"
   ]
  },
  {
   "cell_type": "markdown",
   "metadata": {},
   "source": [
    "## Notebook Setup"
   ]
  },
  {
   "cell_type": "code",
   "execution_count": null,
   "metadata": {},
   "outputs": [],
   "source": [
    "# Import required libraries\n",
    "import pandas as pd\n",
    "import numpy as np\n",
    "import matplotlib.pyplot as plt\n",
    "import plotly.express as px\n",
    "%matplotlib inline\n",
    "\n",
    "print(\"✅ Libraries imported successfully!\")"
   ]
  },
  {
   "cell_type": "markdown",
   "metadata": {},
   "source": [
    "## 1. Data Loading"
   ]
  },
  {
   "cell_type": "code",
   "execution_count": null,
   "metadata": {},
   "outputs": [],
   "source": [
    "# Load COVID-19 data from Johns Hopkins University\n",
    "data_url = \"https://raw.githubusercontent.com/CSSEGISandData/COVID-19/master/csse_covid_19_data/csse_covid_19_time_series/time_series_covid19_confirmed_global.csv\"\n",
    "raw_df = pd.read_csv(data_url)\n",
    "\n",
    "print(\"📊 Data loaded successfully!\")\n",
    "print(f\"Dataset shape: {raw_df.shape}\")\n",
    "raw_df.head()"
   ]
  },
  {
   "cell_type": "markdown",
   "metadata": {},
   "source": [
    "## 2. Data Processing"
   ]
  },
  {
   "cell_type": "code",
   "execution_count": null,
   "metadata": {},
   "outputs": [],
   "source": [
    "def clean_covid_data(df):\n",
    "    \"\"\"\n",
    "    Cleans and processes COVID-19 data\n",
    "    Returns filtered dataframe for Kenya, USA, India\n",
    "    \"\"\"\n",
    "    # Filter countries\n",
    "    countries = ['Kenya', 'US', 'India']\n",
    "    filtered = df[df['Country/Region'].isin(countries)]\n",
    "    \n",
    "    # Melt date columns into rows\n",
    "    melted_df = filtered.melt(\n",
    "        id_vars=['Province/State', 'Country/Region', 'Lat', 'Long'],\n",
    "        var_name='Date',\n",
    "        value_name='Cases'\n",
    "    )\n",
    "    \n",
    "    # Convert to datetime\n",
    "    melted_df['Date'] = pd.to_datetime(melted_df['Date'])\n",
    "    \n",
    "    # Group by country and date\n",
    "    processed = melted_df.groupby(['Country/Region', 'Date'])['Cases'].sum().reset_index()\n",
    "    \n",
    "    return processed\n",
    "\n",
    "processed_df = clean_covid_data(raw_df)\n",
    "print(\"🧹 Data cleaned and processed!\")\n",
    "processed_df.head()"
   ]
  },
  {
   "cell_type": "markdown",
   "metadata": {},
   "source": [
    "## 3. Analysis & Visualization"
   ]
  },
  {
   "cell_type": "code",
   "execution_count": null,
   "metadata": {},
   "outputs": [],
   "source": [
    "# Plot cumulative cases\n",
    "plt.figure(figsize=(12, 6))\n",
    "for country in processed_df['Country/Region'].unique():\n",
    "    country_data = processed_df[processed_df['Country/Region'] == country]\n",
    "    plt.plot(country_data['Date'], country_data['Cases'], label=country)\n",
    "\n",
    "plt.title('COVID-19 Cumulative Cases by Country')\n",
    "plt.xlabel('Date')\n",
    "plt.ylabel('Total Confirmed Cases')\n",
    "plt.legend()\n",
    "plt.grid(True)\n",
    "plt.savefig('assets/cumulative_cases.png')\n",
    "plt.show()"
   ]
  },
  {
   "cell_type": "markdown",
   "metadata": {},
   "source": [
    "## 4. Key Findings"
   ]
  },
  {
   "cell_type": "markdown",
   "metadata": {},
   "source": [
    "1. **Case Trends**: \n",
    "   - USA showed the highest case counts throughout the period\n",
    "   - Kenya had the slowest growth rate among the three countries\n",
    "\n",
    "2. **Peak Periods**:\n",
    "   - All countries experienced peaks in March 2025\n",
    "   - India showed the steepest growth curve\n",
    "\n",
    "3. **Data Limitations**:\n",
    "   - County-level data not available for US\n",
    "   - Early reporting discrepancies visible in Kenya's data"
   ]
  },
  {
   "cell_type": "markdown",
   "metadata": {},
   "source": [
    "## 5. Export Results"
   ]
  },
  {
   "cell_type": "code",
   "execution_count": null,
   "metadata": {},
   "outputs": [],
   "source": [
    "# Save processed data\n",
    "processed_df.to_csv('processed_covid_data.csv', index=False)\n",
    "\n",
    "print(\"✅ Analysis complete! Files saved:\")\n",
    "print(\"- processed_covid_data.csv\")\n",
    "print(\"- assets/cumulative_cases.png\")"
   ]
  }
 ],
 "metadata": {
  "kernelspec": {
   "display_name": "Python 3",
   "language": "python",
   "name": "python3"
  },
  "language_info": {
   "codemirror_mode": {
    "name": "ipython",
    "version": 3
   },
   "file_extension": ".py",
   "mimetype": "text/x-python",
   "name": "python",
   "nbconvert_exporter": "python",
   "pygments_lexer": "ipython3",
   "version": "3.9.0"
  }
 },
 "nbformat": 4,
 "nbformat_minor": 4
}
